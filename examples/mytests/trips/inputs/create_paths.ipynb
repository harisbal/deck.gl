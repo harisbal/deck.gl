{
 "cells": [
  {
   "cell_type": "code",
   "execution_count": 95,
   "metadata": {},
   "outputs": [],
   "source": [
    "import datetime\n",
    "import json\n",
    "import pandas as pd"
   ]
  },
  {
   "cell_type": "code",
   "execution_count": 116,
   "metadata": {},
   "outputs": [],
   "source": [
    "descr = pd.read_csv(r'trs_mdl_descr.csv')"
   ]
  },
  {
   "cell_type": "code",
   "execution_count": 117,
   "metadata": {},
   "outputs": [
    {
     "data": {
      "text/html": [
       "<div>\n",
       "<style scoped>\n",
       "    .dataframe tbody tr th:only-of-type {\n",
       "        vertical-align: middle;\n",
       "    }\n",
       "\n",
       "    .dataframe tbody tr th {\n",
       "        vertical-align: top;\n",
       "    }\n",
       "\n",
       "    .dataframe thead th {\n",
       "        text-align: right;\n",
       "    }\n",
       "</style>\n",
       "<table border=\"1\" class=\"dataframe\">\n",
       "  <thead>\n",
       "    <tr style=\"text-align: right;\">\n",
       "      <th></th>\n",
       "      <th>Tourid</th>\n",
       "      <th>Legseqidx</th>\n",
       "      <th>Source</th>\n",
       "      <th>Target</th>\n",
       "      <th>Direction</th>\n",
       "      <th>Timeperiod</th>\n",
       "      <th>Purpose</th>\n",
       "      <th>Odpairid</th>\n",
       "      <th>Distance</th>\n",
       "      <th>Traveltime</th>\n",
       "      <th>Departtime</th>\n",
       "      <th>SourceX</th>\n",
       "      <th>SourceY</th>\n",
       "      <th>TargetX</th>\n",
       "      <th>TargetY</th>\n",
       "    </tr>\n",
       "  </thead>\n",
       "  <tbody>\n",
       "    <tr>\n",
       "      <th>0</th>\n",
       "      <td>1</td>\n",
       "      <td>0</td>\n",
       "      <td>E01014387</td>\n",
       "      <td>E01014370</td>\n",
       "      <td>FromHome</td>\n",
       "      <td>AM</td>\n",
       "      <td>HBO</td>\n",
       "      <td>51</td>\n",
       "      <td>470.9</td>\n",
       "      <td>470.9</td>\n",
       "      <td>08:49:07</td>\n",
       "      <td>-2.358667</td>\n",
       "      <td>51.359112</td>\n",
       "      <td>-2.359580</td>\n",
       "      <td>51.383284</td>\n",
       "    </tr>\n",
       "    <tr>\n",
       "      <th>1</th>\n",
       "      <td>1</td>\n",
       "      <td>1</td>\n",
       "      <td>E01014370</td>\n",
       "      <td>E01014379</td>\n",
       "      <td>NonHomeBased</td>\n",
       "      <td>PM</td>\n",
       "      <td>NHBO</td>\n",
       "      <td>1</td>\n",
       "      <td>951.8</td>\n",
       "      <td>951.8</td>\n",
       "      <td>18:05:30</td>\n",
       "      <td>-2.359580</td>\n",
       "      <td>51.383284</td>\n",
       "      <td>-2.426716</td>\n",
       "      <td>51.347451</td>\n",
       "    </tr>\n",
       "  </tbody>\n",
       "</table>\n",
       "</div>"
      ],
      "text/plain": [
       "   Tourid  Legseqidx     Source     Target     Direction Timeperiod Purpose  \\\n",
       "0       1          0  E01014387  E01014370      FromHome         AM     HBO   \n",
       "1       1          1  E01014370  E01014379  NonHomeBased         PM    NHBO   \n",
       "\n",
       "   Odpairid  Distance  Traveltime Departtime   SourceX    SourceY   TargetX  \\\n",
       "0        51     470.9       470.9   08:49:07 -2.358667  51.359112 -2.359580   \n",
       "1         1     951.8       951.8   18:05:30 -2.359580  51.383284 -2.426716   \n",
       "\n",
       "     TargetY  \n",
       "0  51.383284  \n",
       "1  51.347451  "
      ]
     },
     "execution_count": 117,
     "metadata": {},
     "output_type": "execute_result"
    }
   ],
   "source": [
    "descr.head(2)"
   ]
  },
  {
   "cell_type": "code",
   "execution_count": 141,
   "metadata": {},
   "outputs": [],
   "source": [
    "def create_segments(trip):\n",
    "    srcx, srcy = trip[['SourceX', 'SourceY']]\n",
    "    tgtx, tgty = trip[['TargetX', 'TargetY']]\n",
    "    \n",
    "    epoch = datetime.datetime.utcfromtimestamp(0)\n",
    "    \n",
    "    dt = pd.to_timedelta(trip['Departtime']) + epoch\n",
    "    tt = pd.to_timedelta(trip['Traveltime'], unit='s')\n",
    "    \n",
    "    segments = [[srcx, srcy, dt.timestamp()], [tgtx, tgty, (dt+tt).timestamp()]]\n",
    "    return segments\n"
   ]
  },
  {
   "cell_type": "code",
   "execution_count": 142,
   "metadata": {
    "scrolled": true
   },
   "outputs": [],
   "source": [
    "descr['segments'] = descr.apply(create_segments, axis=1)"
   ]
  },
  {
   "cell_type": "code",
   "execution_count": 143,
   "metadata": {},
   "outputs": [],
   "source": [
    "d = descr.to_dict(orient='records')"
   ]
  },
  {
   "cell_type": "code",
   "execution_count": 144,
   "metadata": {},
   "outputs": [],
   "source": [
    "# Get a file object with write permission.\n",
    "f = open('data.json', 'w')\n",
    "# Save dict data into the JSON file.\n",
    "json.dump(d, f)"
   ]
  },
  {
   "cell_type": "code",
   "execution_count": null,
   "metadata": {},
   "outputs": [],
   "source": []
  }
 ],
 "metadata": {
  "kernelspec": {
   "display_name": "Python 3",
   "language": "python",
   "name": "python3"
  },
  "language_info": {
   "codemirror_mode": {
    "name": "ipython",
    "version": 3
   },
   "file_extension": ".py",
   "mimetype": "text/x-python",
   "name": "python",
   "nbconvert_exporter": "python",
   "pygments_lexer": "ipython3",
   "version": "3.7.1"
  }
 },
 "nbformat": 4,
 "nbformat_minor": 2
}
